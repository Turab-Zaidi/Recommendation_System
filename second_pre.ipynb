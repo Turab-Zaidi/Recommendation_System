{
 "cells": [
  {
   "cell_type": "code",
   "execution_count": 3,
   "metadata": {},
   "outputs": [],
   "source": [
    "import pandas as pd\n"
   ]
  },
  {
   "cell_type": "code",
   "execution_count": 4,
   "metadata": {},
   "outputs": [],
   "source": [
    "df = pd.read_pickle(\"./pickled_file/database.pkl\")"
   ]
  },
  {
   "cell_type": "code",
   "execution_count": 5,
   "metadata": {},
   "outputs": [
    {
     "data": {
      "text/html": [
       "<div>\n",
       "<style scoped>\n",
       "    .dataframe tbody tr th:only-of-type {\n",
       "        vertical-align: middle;\n",
       "    }\n",
       "\n",
       "    .dataframe tbody tr th {\n",
       "        vertical-align: top;\n",
       "    }\n",
       "\n",
       "    .dataframe thead th {\n",
       "        text-align: right;\n",
       "    }\n",
       "</style>\n",
       "<table border=\"1\" class=\"dataframe\">\n",
       "  <thead>\n",
       "    <tr style=\"text-align: right;\">\n",
       "      <th></th>\n",
       "      <th>imdbID</th>\n",
       "      <th>title</th>\n",
       "      <th>movie_tags</th>\n",
       "      <th>review_tags</th>\n",
       "      <th>all_tags</th>\n",
       "    </tr>\n",
       "  </thead>\n",
       "  <tbody>\n",
       "    <tr>\n",
       "      <th>0</th>\n",
       "      <td>0035423</td>\n",
       "      <td>Kate &amp; Leopold</td>\n",
       "      <td>2000 comedy fantasy romance jamesmangold megry...</td>\n",
       "      <td>kate actor brother live ny 21st centuri exboyf...</td>\n",
       "      <td>kate actor brother live ny 21st centuri exboyf...</td>\n",
       "    </tr>\n",
       "    <tr>\n",
       "      <th>1</th>\n",
       "      <td>0081145</td>\n",
       "      <td>Me and the Kid</td>\n",
       "      <td>1990 comedy crime drama dancurtis dannyaiello ...</td>\n",
       "      <td>lone emot neglect rich kid form attach one men...</td>\n",
       "      <td>lone emot neglect rich kid form attach one men...</td>\n",
       "    </tr>\n",
       "  </tbody>\n",
       "</table>\n",
       "</div>"
      ],
      "text/plain": [
       "    imdbID           title                                         movie_tags  \\\n",
       "0  0035423  Kate & Leopold  2000 comedy fantasy romance jamesmangold megry...   \n",
       "1  0081145  Me and the Kid  1990 comedy crime drama dancurtis dannyaiello ...   \n",
       "\n",
       "                                         review_tags  \\\n",
       "0  kate actor brother live ny 21st centuri exboyf...   \n",
       "1  lone emot neglect rich kid form attach one men...   \n",
       "\n",
       "                                            all_tags  \n",
       "0  kate actor brother live ny 21st centuri exboyf...  \n",
       "1  lone emot neglect rich kid form attach one men...  "
      ]
     },
     "execution_count": 5,
     "metadata": {},
     "output_type": "execute_result"
    }
   ],
   "source": [
    "df.head(2)"
   ]
  },
  {
   "cell_type": "code",
   "execution_count": 7,
   "metadata": {},
   "outputs": [],
   "source": [
    "from sklearn.feature_extraction.text import TfidfVectorizer\n",
    "tfidf_vectorizer = TfidfVectorizer( max_features=25000,ngram_range=(1,4))\n",
    "feature_array = tfidf_vectorizer.fit_transform(df[\"all_tags\"]).toarray()"
   ]
  },
  {
   "cell_type": "code",
   "execution_count": 8,
   "metadata": {},
   "outputs": [],
   "source": [
    "from sklearn.metrics.pairwise import cosine_similarity\n",
    "import numpy as np\n",
    "similartiy = cosine_similarity(feature_array.astype(np.float32))\n",
    "similartiy = similartiy.astype(np.float16)"
   ]
  },
  {
   "cell_type": "code",
   "execution_count": 9,
   "metadata": {},
   "outputs": [],
   "source": [
    "def recommend_movie(movie):\n",
    "    movie_index = df[df['title']==movie].index[0]\n",
    "    distance = similartiy[movie_index]\n",
    "    movie_list = sorted(enumerate(distance),key=lambda x: x[1],reverse=True)[1:6]\n",
    "    for i in movie_list:\n",
    "        print(df.iloc[i[0],1],df.iloc[i[0],0])"
   ]
  },
  {
   "cell_type": "code",
   "execution_count": 11,
   "metadata": {},
   "outputs": [
    {
     "name": "stdout",
     "output_type": "stream",
     "text": [
      "The Dark Knight 0468569\n",
      "Batman Returns 0103776\n",
      "The Dark Knight Rises 1345836\n",
      "Batman Unlimited: Monster Mayhem 4729754\n",
      "The Prestige 0482571\n"
     ]
    }
   ],
   "source": [
    "recommend_movie(\"Batman Begins\")"
   ]
  }
 ],
 "metadata": {
  "kernelspec": {
   "display_name": "Python 3",
   "language": "python",
   "name": "python3"
  },
  "language_info": {
   "codemirror_mode": {
    "name": "ipython",
    "version": 3
   },
   "file_extension": ".py",
   "mimetype": "text/x-python",
   "name": "python",
   "nbconvert_exporter": "python",
   "pygments_lexer": "ipython3",
   "version": "3.11.1"
  }
 },
 "nbformat": 4,
 "nbformat_minor": 2
}
