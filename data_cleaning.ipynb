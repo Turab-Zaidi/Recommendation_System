{
 "cells": [
  {
   "cell_type": "code",
   "execution_count": 43,
   "metadata": {},
   "outputs": [],
   "source": [
    "import pandas as pd\n",
    "import numpy as np"
   ]
  },
  {
   "cell_type": "code",
   "execution_count": 44,
   "metadata": {},
   "outputs": [
    {
     "data": {
      "text/html": [
       "<div>\n",
       "<style scoped>\n",
       "    .dataframe tbody tr th:only-of-type {\n",
       "        vertical-align: middle;\n",
       "    }\n",
       "\n",
       "    .dataframe tbody tr th {\n",
       "        vertical-align: top;\n",
       "    }\n",
       "\n",
       "    .dataframe thead th {\n",
       "        text-align: right;\n",
       "    }\n",
       "</style>\n",
       "<table border=\"1\" class=\"dataframe\">\n",
       "  <thead>\n",
       "    <tr style=\"text-align: right;\">\n",
       "      <th></th>\n",
       "      <th>imdbID</th>\n",
       "      <th>title</th>\n",
       "      <th>year</th>\n",
       "      <th>rating</th>\n",
       "      <th>runtime</th>\n",
       "      <th>genre</th>\n",
       "      <th>released</th>\n",
       "      <th>director</th>\n",
       "      <th>writer</th>\n",
       "      <th>cast</th>\n",
       "      <th>...</th>\n",
       "      <th>imdbRating</th>\n",
       "      <th>imdbVotes</th>\n",
       "      <th>poster</th>\n",
       "      <th>plot</th>\n",
       "      <th>fullplot</th>\n",
       "      <th>language</th>\n",
       "      <th>country</th>\n",
       "      <th>awards</th>\n",
       "      <th>lastupdated</th>\n",
       "      <th>type</th>\n",
       "    </tr>\n",
       "  </thead>\n",
       "  <tbody>\n",
       "    <tr>\n",
       "      <th>0</th>\n",
       "      <td>1</td>\n",
       "      <td>Carmencita</td>\n",
       "      <td>1894</td>\n",
       "      <td>NOT RATED</td>\n",
       "      <td>1 min</td>\n",
       "      <td>Documentary, Short</td>\n",
       "      <td>NaN</td>\n",
       "      <td>William K.L. Dickson</td>\n",
       "      <td>NaN</td>\n",
       "      <td>Carmencita</td>\n",
       "      <td>...</td>\n",
       "      <td>5.9</td>\n",
       "      <td>1032.0</td>\n",
       "      <td>https://m.media-amazon.com/images/M/MV5BMjAzND...</td>\n",
       "      <td>Performing on what looks like a small wooden s...</td>\n",
       "      <td>Performing on what looks like a small wooden s...</td>\n",
       "      <td>NaN</td>\n",
       "      <td>USA</td>\n",
       "      <td>NaN</td>\n",
       "      <td>2015-08-26 00:03:45.040000000</td>\n",
       "      <td>movie</td>\n",
       "    </tr>\n",
       "    <tr>\n",
       "      <th>1</th>\n",
       "      <td>5</td>\n",
       "      <td>Blacksmith Scene</td>\n",
       "      <td>1893</td>\n",
       "      <td>UNRATED</td>\n",
       "      <td>1 min</td>\n",
       "      <td>Short</td>\n",
       "      <td>1893-05-09</td>\n",
       "      <td>William K.L. Dickson</td>\n",
       "      <td>NaN</td>\n",
       "      <td>Charles Kayser, John Ott</td>\n",
       "      <td>...</td>\n",
       "      <td>6.2</td>\n",
       "      <td>1189.0</td>\n",
       "      <td>NaN</td>\n",
       "      <td>Three men hammer on an anvil and pass a bottle...</td>\n",
       "      <td>A stationary camera looks at a large anvil wit...</td>\n",
       "      <td>NaN</td>\n",
       "      <td>USA</td>\n",
       "      <td>1 win.</td>\n",
       "      <td>2015-08-26 00:03:50.133000000</td>\n",
       "      <td>movie</td>\n",
       "    </tr>\n",
       "    <tr>\n",
       "      <th>2</th>\n",
       "      <td>3</td>\n",
       "      <td>Pauvre Pierrot</td>\n",
       "      <td>1892</td>\n",
       "      <td>NaN</td>\n",
       "      <td>4 min</td>\n",
       "      <td>Animation, Comedy, Short</td>\n",
       "      <td>1892-10-28</td>\n",
       "      <td>�mile Reynaud</td>\n",
       "      <td>NaN</td>\n",
       "      <td>NaN</td>\n",
       "      <td>...</td>\n",
       "      <td>6.7</td>\n",
       "      <td>566.0</td>\n",
       "      <td>NaN</td>\n",
       "      <td>One night, Arlequin come to see his lover Colo...</td>\n",
       "      <td>One night, Arlequin come to see his lover Colo...</td>\n",
       "      <td>NaN</td>\n",
       "      <td>France</td>\n",
       "      <td>NaN</td>\n",
       "      <td>2015-08-12 00:06:02.720000000</td>\n",
       "      <td>movie</td>\n",
       "    </tr>\n",
       "    <tr>\n",
       "      <th>3</th>\n",
       "      <td>8</td>\n",
       "      <td>Edison Kinetoscopic Record of a Sneeze</td>\n",
       "      <td>1894</td>\n",
       "      <td>NaN</td>\n",
       "      <td>1 min</td>\n",
       "      <td>Documentary, Short</td>\n",
       "      <td>1894-01-09</td>\n",
       "      <td>William K.L. Dickson</td>\n",
       "      <td>NaN</td>\n",
       "      <td>Fred Ott</td>\n",
       "      <td>...</td>\n",
       "      <td>5.9</td>\n",
       "      <td>988.0</td>\n",
       "      <td>NaN</td>\n",
       "      <td>A man (Thomas Edison's assistant) takes a pinc...</td>\n",
       "      <td>A man (Edison's assistant) takes a pinch of sn...</td>\n",
       "      <td>NaN</td>\n",
       "      <td>USA</td>\n",
       "      <td>NaN</td>\n",
       "      <td>2015-08-10 00:21:07.127000000</td>\n",
       "      <td>movie</td>\n",
       "    </tr>\n",
       "    <tr>\n",
       "      <th>4</th>\n",
       "      <td>10</td>\n",
       "      <td>Employees Leaving the Lumi�re Factory</td>\n",
       "      <td>1895</td>\n",
       "      <td>NaN</td>\n",
       "      <td>1 min</td>\n",
       "      <td>Documentary, Short</td>\n",
       "      <td>1895-03-22</td>\n",
       "      <td>Louis Lumi�re</td>\n",
       "      <td>NaN</td>\n",
       "      <td>NaN</td>\n",
       "      <td>...</td>\n",
       "      <td>6.9</td>\n",
       "      <td>3469.0</td>\n",
       "      <td>NaN</td>\n",
       "      <td>A man opens the big gates to the Lumi�re facto...</td>\n",
       "      <td>A man opens the big gates to the Lumi�re facto...</td>\n",
       "      <td>NaN</td>\n",
       "      <td>France</td>\n",
       "      <td>NaN</td>\n",
       "      <td>2015-08-26 00:03:56.603000000</td>\n",
       "      <td>movie</td>\n",
       "    </tr>\n",
       "  </tbody>\n",
       "</table>\n",
       "<p>5 rows × 21 columns</p>\n",
       "</div>"
      ],
      "text/plain": [
       "   imdbID                                   title  year     rating runtime  \\\n",
       "0       1                              Carmencita  1894  NOT RATED   1 min   \n",
       "1       5                        Blacksmith Scene  1893    UNRATED   1 min   \n",
       "2       3                          Pauvre Pierrot  1892        NaN   4 min   \n",
       "3       8  Edison Kinetoscopic Record of a Sneeze  1894        NaN   1 min   \n",
       "4      10   Employees Leaving the Lumi�re Factory  1895        NaN   1 min   \n",
       "\n",
       "                      genre    released              director writer  \\\n",
       "0        Documentary, Short         NaN  William K.L. Dickson    NaN   \n",
       "1                     Short  1893-05-09  William K.L. Dickson    NaN   \n",
       "2  Animation, Comedy, Short  1892-10-28         �mile Reynaud    NaN   \n",
       "3        Documentary, Short  1894-01-09  William K.L. Dickson    NaN   \n",
       "4        Documentary, Short  1895-03-22         Louis Lumi�re    NaN   \n",
       "\n",
       "                       cast  ...  imdbRating  imdbVotes  \\\n",
       "0                Carmencita  ...         5.9     1032.0   \n",
       "1  Charles Kayser, John Ott  ...         6.2     1189.0   \n",
       "2                       NaN  ...         6.7      566.0   \n",
       "3                  Fred Ott  ...         5.9      988.0   \n",
       "4                       NaN  ...         6.9     3469.0   \n",
       "\n",
       "                                              poster  \\\n",
       "0  https://m.media-amazon.com/images/M/MV5BMjAzND...   \n",
       "1                                                NaN   \n",
       "2                                                NaN   \n",
       "3                                                NaN   \n",
       "4                                                NaN   \n",
       "\n",
       "                                                plot  \\\n",
       "0  Performing on what looks like a small wooden s...   \n",
       "1  Three men hammer on an anvil and pass a bottle...   \n",
       "2  One night, Arlequin come to see his lover Colo...   \n",
       "3  A man (Thomas Edison's assistant) takes a pinc...   \n",
       "4  A man opens the big gates to the Lumi�re facto...   \n",
       "\n",
       "                                            fullplot language country  awards  \\\n",
       "0  Performing on what looks like a small wooden s...      NaN     USA     NaN   \n",
       "1  A stationary camera looks at a large anvil wit...      NaN     USA  1 win.   \n",
       "2  One night, Arlequin come to see his lover Colo...      NaN  France     NaN   \n",
       "3  A man (Edison's assistant) takes a pinch of sn...      NaN     USA     NaN   \n",
       "4  A man opens the big gates to the Lumi�re facto...      NaN  France     NaN   \n",
       "\n",
       "                     lastupdated   type  \n",
       "0  2015-08-26 00:03:45.040000000  movie  \n",
       "1  2015-08-26 00:03:50.133000000  movie  \n",
       "2  2015-08-12 00:06:02.720000000  movie  \n",
       "3  2015-08-10 00:21:07.127000000  movie  \n",
       "4  2015-08-26 00:03:56.603000000  movie  \n",
       "\n",
       "[5 rows x 21 columns]"
      ]
     },
     "execution_count": 44,
     "metadata": {},
     "output_type": "execute_result"
    }
   ],
   "source": [
    "df = pd.read_csv('movies_initial.csv')\n",
    "df.head()"
   ]
  },
  {
   "cell_type": "code",
   "execution_count": 45,
   "metadata": {},
   "outputs": [
    {
     "data": {
      "text/plain": [
       "imdbID             0\n",
       "title              0\n",
       "year               0\n",
       "rating         21385\n",
       "runtime         2637\n",
       "genre            399\n",
       "released        3012\n",
       "director         605\n",
       "writer          3072\n",
       "cast            1086\n",
       "metacritic     36613\n",
       "imdbRating      1714\n",
       "imdbVotes       1715\n",
       "poster         10216\n",
       "plot            3853\n",
       "fullplot        4593\n",
       "language        1115\n",
       "country          184\n",
       "awards         22472\n",
       "lastupdated        0\n",
       "type              38\n",
       "dtype: int64"
      ]
     },
     "execution_count": 45,
     "metadata": {},
     "output_type": "execute_result"
    }
   ],
   "source": [
    "df.isnull().sum()"
   ]
  },
  {
   "cell_type": "markdown",
   "metadata": {},
   "source": [
    "## Handling the null values"
   ]
  },
  {
   "cell_type": "code",
   "execution_count": 46,
   "metadata": {},
   "outputs": [],
   "source": [
    "# Dropping the column which have more than 10% null values\n",
    "\n",
    "def drop_column(dataset):\n",
    "    array = []\n",
    "    for i in dataset.columns:\n",
    "        if dataset[i].isnull().sum() >= 0.10 * dataset.shape[0]:\n",
    "            array.append(i)\n",
    "    return array\n",
    "\n",
    "array = drop_column(df)       \n",
    "\n",
    "\n",
    "df.drop(array,inplace=True,axis=1)"
   ]
  },
  {
   "cell_type": "code",
   "execution_count": 47,
   "metadata": {},
   "outputs": [],
   "source": [
    "df.drop([\"imdbVotes\",\"released\",\"runtime\",\"writer\",\"lastupdated\",\"plot\"],axis=1,inplace=True)\n",
    "# We are dropping the 'released' column since 'year' and 'released' are almost same\n",
    "# Instead of 'plot' we are keeping 'fullplot' column"
   ]
  },
  {
   "cell_type": "code",
   "execution_count": 48,
   "metadata": {},
   "outputs": [],
   "source": [
    "# Since full plot will be the most important column we will drop rows where 'fullplot' value is null\n",
    "df.dropna(subset=['fullplot','language','country'],axis=0,inplace=True)"
   ]
  },
  {
   "cell_type": "code",
   "execution_count": 49,
   "metadata": {},
   "outputs": [],
   "source": [
    "df['genre'].fillna(' ',inplace=True)"
   ]
  },
  {
   "cell_type": "code",
   "execution_count": 50,
   "metadata": {},
   "outputs": [],
   "source": [
    "df['imdbRating'].fillna(df['imdbRating'].mean(),inplace=True)\n",
    "df['cast'].fillna(' ',inplace=True)\n",
    "df['director'].fillna(' ',inplace=True)\n",
    "df['type'].fillna('movies',inplace=True) # since more than 99% were movies"
   ]
  },
  {
   "cell_type": "code",
   "execution_count": 51,
   "metadata": {},
   "outputs": [
    {
     "data": {
      "text/plain": [
       "imdbID        0\n",
       "title         0\n",
       "year          0\n",
       "genre         0\n",
       "director      0\n",
       "cast          0\n",
       "imdbRating    0\n",
       "fullplot      0\n",
       "language      0\n",
       "country       0\n",
       "type          0\n",
       "dtype: int64"
      ]
     },
     "execution_count": 51,
     "metadata": {},
     "output_type": "execute_result"
    }
   ],
   "source": [
    "df.isnull().sum()"
   ]
  },
  {
   "cell_type": "code",
   "execution_count": 52,
   "metadata": {},
   "outputs": [],
   "source": [
    "df.reset_index(drop=True,inplace=True)"
   ]
  },
  {
   "cell_type": "code",
   "execution_count": 53,
   "metadata": {},
   "outputs": [],
   "source": [
    "df.drop_duplicates(subset=['imdbID'],inplace=True)"
   ]
  },
  {
   "cell_type": "code",
   "execution_count": 54,
   "metadata": {},
   "outputs": [],
   "source": [
    "## To reduce the size of dataset we will only work on movies that are after year 1990\n",
    "df['year'] = pd.to_numeric(df['year'], errors='coerce')\n",
    "df.dropna(subset=['year'], inplace=True)\n",
    "df = df[df['year'] >= 1990]"
   ]
  },
  {
   "cell_type": "code",
   "execution_count": 55,
   "metadata": {},
   "outputs": [
    {
     "data": {
      "text/plain": [
       "(25347, 11)"
      ]
     },
     "execution_count": 55,
     "metadata": {},
     "output_type": "execute_result"
    }
   ],
   "source": [
    "df.shape"
   ]
  },
  {
   "cell_type": "code",
   "execution_count": 56,
   "metadata": {},
   "outputs": [],
   "source": [
    "df.to_pickle(\"clean_dataset.pkl\")"
   ]
  },
  {
   "cell_type": "code",
   "execution_count": null,
   "metadata": {},
   "outputs": [],
   "source": []
  },
  {
   "cell_type": "code",
   "execution_count": null,
   "metadata": {},
   "outputs": [],
   "source": []
  },
  {
   "cell_type": "code",
   "execution_count": null,
   "metadata": {},
   "outputs": [],
   "source": []
  }
 ],
 "metadata": {
  "kernelspec": {
   "display_name": "Python 3",
   "language": "python",
   "name": "python3"
  },
  "language_info": {
   "codemirror_mode": {
    "name": "ipython",
    "version": 3
   },
   "file_extension": ".py",
   "mimetype": "text/x-python",
   "name": "python",
   "nbconvert_exporter": "python",
   "pygments_lexer": "ipython3",
   "version": "3.11.1"
  }
 },
 "nbformat": 4,
 "nbformat_minor": 2
}
