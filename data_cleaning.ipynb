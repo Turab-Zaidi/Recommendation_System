{
 "cells": [
  {
   "cell_type": "code",
   "execution_count": 1,
   "metadata": {},
   "outputs": [],
   "source": [
    "import pandas as pd\n",
    "import numpy as np"
   ]
  },
  {
   "cell_type": "code",
   "execution_count": 2,
   "metadata": {},
   "outputs": [
    {
     "name": "stdout",
     "output_type": "stream",
     "text": [
      "<class 'pandas.core.frame.DataFrame'>\n",
      "RangeIndex: 46014 entries, 0 to 46013\n",
      "Data columns (total 21 columns):\n",
      " #   Column       Non-Null Count  Dtype  \n",
      "---  ------       --------------  -----  \n",
      " 0   imdbID       46014 non-null  int64  \n",
      " 1   title        46014 non-null  object \n",
      " 2   year         46014 non-null  object \n",
      " 3   rating       24629 non-null  object \n",
      " 4   runtime      43377 non-null  object \n",
      " 5   genre        45615 non-null  object \n",
      " 6   released     43002 non-null  object \n",
      " 7   director     45409 non-null  object \n",
      " 8   writer       42942 non-null  object \n",
      " 9   cast         44928 non-null  object \n",
      " 10  metacritic   9401 non-null   float64\n",
      " 11  imdbRating   44300 non-null  float64\n",
      " 12  imdbVotes    44299 non-null  float64\n",
      " 13  poster       35798 non-null  object \n",
      " 14  plot         42161 non-null  object \n",
      " 15  fullplot     41421 non-null  object \n",
      " 16  language     44899 non-null  object \n",
      " 17  country      45830 non-null  object \n",
      " 18  awards       23542 non-null  object \n",
      " 19  lastupdated  46014 non-null  object \n",
      " 20  type         45976 non-null  object \n",
      "dtypes: float64(3), int64(1), object(17)\n",
      "memory usage: 7.4+ MB\n"
     ]
    }
   ],
   "source": [
    "df = pd.read_csv('movies_initial.csv')\n",
    "df.info()"
   ]
  },
  {
   "cell_type": "code",
   "execution_count": 3,
   "metadata": {},
   "outputs": [],
   "source": [
    "df.drop([\"awards\",\"poster\",\"imdbVotes\",\"released\",\"metacritic\",\"rating\",\"runtime\",\"writer\",\"imdbRating\",\"lastupdated\",\"fullplot\"],axis=1,inplace=True)"
   ]
  },
  {
   "cell_type": "code",
   "execution_count": 4,
   "metadata": {},
   "outputs": [
    {
     "data": {
      "text/plain": [
       "imdbID         0\n",
       "title          0\n",
       "year           0\n",
       "genre        399\n",
       "director     605\n",
       "cast        1086\n",
       "plot        3853\n",
       "language    1115\n",
       "country      184\n",
       "type          38\n",
       "dtype: int64"
      ]
     },
     "execution_count": 4,
     "metadata": {},
     "output_type": "execute_result"
    }
   ],
   "source": [
    "df.isnull().sum()"
   ]
  },
  {
   "cell_type": "code",
   "execution_count": 5,
   "metadata": {},
   "outputs": [
    {
     "data": {
      "text/plain": [
       "imdbID      0\n",
       "title       0\n",
       "year        0\n",
       "genre       0\n",
       "director    0\n",
       "cast        0\n",
       "plot        0\n",
       "language    0\n",
       "country     0\n",
       "type        0\n",
       "dtype: int64"
      ]
     },
     "execution_count": 5,
     "metadata": {},
     "output_type": "execute_result"
    }
   ],
   "source": [
    "df.dropna(inplace=True)\n",
    "df.isnull().sum()"
   ]
  },
  {
   "cell_type": "code",
   "execution_count": 6,
   "metadata": {},
   "outputs": [
    {
     "name": "stdout",
     "output_type": "stream",
     "text": [
      "<class 'pandas.core.frame.DataFrame'>\n",
      "Index: 40083 entries, 24 to 46008\n",
      "Data columns (total 10 columns):\n",
      " #   Column    Non-Null Count  Dtype \n",
      "---  ------    --------------  ----- \n",
      " 0   imdbID    40083 non-null  int64 \n",
      " 1   title     40083 non-null  object\n",
      " 2   year      40083 non-null  object\n",
      " 3   genre     40083 non-null  object\n",
      " 4   director  40083 non-null  object\n",
      " 5   cast      40083 non-null  object\n",
      " 6   plot      40083 non-null  object\n",
      " 7   language  40083 non-null  object\n",
      " 8   country   40083 non-null  object\n",
      " 9   type      40083 non-null  object\n",
      "dtypes: int64(1), object(9)\n",
      "memory usage: 3.4+ MB\n"
     ]
    }
   ],
   "source": [
    "df.info()"
   ]
  },
  {
   "cell_type": "code",
   "execution_count": 7,
   "metadata": {},
   "outputs": [
    {
     "data": {
      "text/html": [
       "<div>\n",
       "<style scoped>\n",
       "    .dataframe tbody tr th:only-of-type {\n",
       "        vertical-align: middle;\n",
       "    }\n",
       "\n",
       "    .dataframe tbody tr th {\n",
       "        vertical-align: top;\n",
       "    }\n",
       "\n",
       "    .dataframe thead th {\n",
       "        text-align: right;\n",
       "    }\n",
       "</style>\n",
       "<table border=\"1\" class=\"dataframe\">\n",
       "  <thead>\n",
       "    <tr style=\"text-align: right;\">\n",
       "      <th></th>\n",
       "      <th>imdbID</th>\n",
       "      <th>title</th>\n",
       "      <th>year</th>\n",
       "      <th>genre</th>\n",
       "      <th>director</th>\n",
       "      <th>cast</th>\n",
       "      <th>plot</th>\n",
       "      <th>language</th>\n",
       "      <th>country</th>\n",
       "      <th>type</th>\n",
       "    </tr>\n",
       "  </thead>\n",
       "  <tbody>\n",
       "    <tr>\n",
       "      <th>24</th>\n",
       "      <td>399</td>\n",
       "      <td>Jack and the Beanstalk</td>\n",
       "      <td>1902</td>\n",
       "      <td>Short, Fantasy</td>\n",
       "      <td>George S. Fleming, Edwin S. Porter</td>\n",
       "      <td>Thomas White</td>\n",
       "      <td>Porter's sequential continuity editing links s...</td>\n",
       "      <td>English</td>\n",
       "      <td>USA</td>\n",
       "      <td>movie</td>\n",
       "    </tr>\n",
       "    <tr>\n",
       "      <th>27</th>\n",
       "      <td>447</td>\n",
       "      <td>Life of an American Fireman</td>\n",
       "      <td>1903</td>\n",
       "      <td>Short, Action</td>\n",
       "      <td>George S. Fleming, Edwin S. Porter</td>\n",
       "      <td>Vivian Vaughan, Arthur White, James H. White</td>\n",
       "      <td>Porter's sequential continuity editing links s...</td>\n",
       "      <td>English</td>\n",
       "      <td>USA</td>\n",
       "      <td>movie</td>\n",
       "    </tr>\n",
       "    <tr>\n",
       "      <th>28</th>\n",
       "      <td>439</td>\n",
       "      <td>The Great Train Robbery</td>\n",
       "      <td>1903</td>\n",
       "      <td>Short, Western</td>\n",
       "      <td>Edwin S. Porter</td>\n",
       "      <td>A.C. Abadie, Gilbert M. 'Broncho Billy' Anders...</td>\n",
       "      <td>A group of bandits stage a brazen train hold-u...</td>\n",
       "      <td>English</td>\n",
       "      <td>USA</td>\n",
       "      <td>movie</td>\n",
       "    </tr>\n",
       "    <tr>\n",
       "      <th>29</th>\n",
       "      <td>455</td>\n",
       "      <td>The Music Lover</td>\n",
       "      <td>1903</td>\n",
       "      <td>Short, Comedy, Music</td>\n",
       "      <td>Georges M�li�s</td>\n",
       "      <td>Georges M�li�s</td>\n",
       "      <td>The leader of a marching band demonstrates an ...</td>\n",
       "      <td>French</td>\n",
       "      <td>France</td>\n",
       "      <td>movie</td>\n",
       "    </tr>\n",
       "    <tr>\n",
       "      <th>34</th>\n",
       "      <td>499</td>\n",
       "      <td>The Voyage Across the Impossible</td>\n",
       "      <td>1904</td>\n",
       "      <td>Short, Adventure, Fantasy</td>\n",
       "      <td>Georges M�li�s</td>\n",
       "      <td>Georges M�li�s</td>\n",
       "      <td>Using every known means of transportation, sev...</td>\n",
       "      <td>French</td>\n",
       "      <td>France</td>\n",
       "      <td>movie</td>\n",
       "    </tr>\n",
       "  </tbody>\n",
       "</table>\n",
       "</div>"
      ],
      "text/plain": [
       "    imdbID                             title  year                      genre  \\\n",
       "24     399            Jack and the Beanstalk  1902             Short, Fantasy   \n",
       "27     447       Life of an American Fireman  1903              Short, Action   \n",
       "28     439           The Great Train Robbery  1903             Short, Western   \n",
       "29     455                   The Music Lover  1903       Short, Comedy, Music   \n",
       "34     499  The Voyage Across the Impossible  1904  Short, Adventure, Fantasy   \n",
       "\n",
       "                              director  \\\n",
       "24  George S. Fleming, Edwin S. Porter   \n",
       "27  George S. Fleming, Edwin S. Porter   \n",
       "28                     Edwin S. Porter   \n",
       "29                      Georges M�li�s   \n",
       "34                      Georges M�li�s   \n",
       "\n",
       "                                                 cast  \\\n",
       "24                                       Thomas White   \n",
       "27       Vivian Vaughan, Arthur White, James H. White   \n",
       "28  A.C. Abadie, Gilbert M. 'Broncho Billy' Anders...   \n",
       "29                                     Georges M�li�s   \n",
       "34                                     Georges M�li�s   \n",
       "\n",
       "                                                 plot language country   type  \n",
       "24  Porter's sequential continuity editing links s...  English     USA  movie  \n",
       "27  Porter's sequential continuity editing links s...  English     USA  movie  \n",
       "28  A group of bandits stage a brazen train hold-u...  English     USA  movie  \n",
       "29  The leader of a marching band demonstrates an ...   French  France  movie  \n",
       "34  Using every known means of transportation, sev...   French  France  movie  "
      ]
     },
     "execution_count": 7,
     "metadata": {},
     "output_type": "execute_result"
    }
   ],
   "source": [
    "df.head()"
   ]
  },
  {
   "cell_type": "code",
   "execution_count": 8,
   "metadata": {},
   "outputs": [],
   "source": [
    "df = df[df['year']>'1990']"
   ]
  },
  {
   "cell_type": "code",
   "execution_count": 9,
   "metadata": {},
   "outputs": [],
   "source": [
    "df.to_pickle(\"./pickled_file/clean_dataset.pkl\")"
   ]
  },
  {
   "cell_type": "code",
   "execution_count": null,
   "metadata": {},
   "outputs": [],
   "source": []
  },
  {
   "cell_type": "code",
   "execution_count": null,
   "metadata": {},
   "outputs": [],
   "source": []
  },
  {
   "cell_type": "code",
   "execution_count": null,
   "metadata": {},
   "outputs": [],
   "source": []
  }
 ],
 "metadata": {
  "kernelspec": {
   "display_name": "Python 3",
   "language": "python",
   "name": "python3"
  },
  "language_info": {
   "codemirror_mode": {
    "name": "ipython",
    "version": 3
   },
   "file_extension": ".py",
   "mimetype": "text/x-python",
   "name": "python",
   "nbconvert_exporter": "python",
   "pygments_lexer": "ipython3",
   "version": "3.11.1"
  }
 },
 "nbformat": 4,
 "nbformat_minor": 2
}
